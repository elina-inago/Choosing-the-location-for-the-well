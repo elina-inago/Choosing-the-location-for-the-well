{
 "cells": [
  {
   "cell_type": "markdown",
   "metadata": {},
   "source": [
    "# Выбор локации для скважины"
   ]
  },
  {
   "cell_type": "markdown",
   "metadata": {},
   "source": [
    "Допустим, вы работаете в добывающей компании «ГлавРосГосНефть». Нужно решить, где бурить новую скважину.\n",
    "\n",
    "Вам предоставлены пробы нефти в трёх регионах: в каждом 10 000 месторождений, где измерили качество нефти и объём её запасов. Постройте модель машинного обучения, которая поможет определить регион, где добыча принесёт наибольшую прибыль. Проанализируйте возможную прибыль и риски техникой *Bootstrap.*\n",
    "\n",
    "Шаги для выбора локации:\n",
    "\n",
    "- В избранном регионе ищут месторождения, для каждого определяют значения признаков;\n",
    "- Строят модель и оценивают объём запасов;\n",
    "- Выбирают месторождения с самым высокими оценками значений. Количество месторождений зависит от бюджета компании и стоимости разработки одной скважины;\n",
    "- Прибыль равна суммарной прибыли отобранных месторождений."
   ]
  },
  {
   "cell_type": "markdown",
   "metadata": {},
   "source": [
    "# Содержание"
   ]
  },
  {
   "cell_type": "markdown",
   "metadata": {},
   "source": [
    "* [1. Загрузка и подготовка данных.](#Загрузка-и-подготовка-данных)\n",
    "* [2. Обучение и проверка модели.](#Обучение-и-проверка-модели)\n",
    "* [3. Подготовка к расчёту прибыли.](#Подготовка-к-расчёту-прибыли)  \n",
    "* [4. Расчёт прибыли и рисков.](#Расчёт-прибыли-и-рисков)"
   ]
  },
  {
   "cell_type": "markdown",
   "metadata": {},
   "source": [
    "## Загрузка и подготовка данных"
   ]
  },
  {
   "cell_type": "markdown",
   "metadata": {},
   "source": [
    "Импортируем библиотеки."
   ]
  },
  {
   "cell_type": "code",
   "execution_count": 1,
   "metadata": {},
   "outputs": [],
   "source": [
    "import pandas as pd\n",
    "import numpy as np\n",
    "import matplotlib.pyplot as plt \n",
    "import itertools\n",
    "from sklearn.model_selection import train_test_split\n",
    "from sklearn.linear_model import LinearRegression\n",
    "from sklearn.pipeline import make_pipeline\n",
    "from sklearn.preprocessing import StandardScaler\n",
    "from sklearn.metrics import mean_squared_error\n",
    "from numpy.random import RandomState\n",
    "from tqdm import tqdm\n",
    "\n",
    "RANDOM = 12345\n",
    "state = RandomState(RANDOM) "
   ]
  },
  {
   "cell_type": "markdown",
   "metadata": {},
   "source": [
    "Загрузим данные."
   ]
  },
  {
   "cell_type": "code",
   "execution_count": 2,
   "metadata": {},
   "outputs": [
    {
     "name": "stdout",
     "output_type": "stream",
     "text": [
      "Первый датасет\n"
     ]
    },
    {
     "data": {
      "text/html": [
       "<div>\n",
       "<style scoped>\n",
       "    .dataframe tbody tr th:only-of-type {\n",
       "        vertical-align: middle;\n",
       "    }\n",
       "\n",
       "    .dataframe tbody tr th {\n",
       "        vertical-align: top;\n",
       "    }\n",
       "\n",
       "    .dataframe thead th {\n",
       "        text-align: right;\n",
       "    }\n",
       "</style>\n",
       "<table border=\"1\" class=\"dataframe\">\n",
       "  <thead>\n",
       "    <tr style=\"text-align: right;\">\n",
       "      <th></th>\n",
       "      <th>id</th>\n",
       "      <th>f0</th>\n",
       "      <th>f1</th>\n",
       "      <th>f2</th>\n",
       "      <th>product</th>\n",
       "    </tr>\n",
       "  </thead>\n",
       "  <tbody>\n",
       "    <tr>\n",
       "      <td>89815</td>\n",
       "      <td>vRoQe</td>\n",
       "      <td>1.581175</td>\n",
       "      <td>-0.381228</td>\n",
       "      <td>1.407111</td>\n",
       "      <td>131.846446</td>\n",
       "    </tr>\n",
       "    <tr>\n",
       "      <td>44901</td>\n",
       "      <td>h9TNw</td>\n",
       "      <td>-0.284751</td>\n",
       "      <td>1.128217</td>\n",
       "      <td>-2.779204</td>\n",
       "      <td>85.556985</td>\n",
       "    </tr>\n",
       "    <tr>\n",
       "      <td>94535</td>\n",
       "      <td>sJkPS</td>\n",
       "      <td>-0.823891</td>\n",
       "      <td>0.597064</td>\n",
       "      <td>7.075726</td>\n",
       "      <td>51.464814</td>\n",
       "    </tr>\n",
       "    <tr>\n",
       "      <td>58425</td>\n",
       "      <td>HDmuL</td>\n",
       "      <td>0.527858</td>\n",
       "      <td>0.798474</td>\n",
       "      <td>-3.123894</td>\n",
       "      <td>107.800629</td>\n",
       "    </tr>\n",
       "    <tr>\n",
       "      <td>61188</td>\n",
       "      <td>ocjXa</td>\n",
       "      <td>1.193557</td>\n",
       "      <td>-0.538374</td>\n",
       "      <td>4.061362</td>\n",
       "      <td>96.037068</td>\n",
       "    </tr>\n",
       "  </tbody>\n",
       "</table>\n",
       "</div>"
      ],
      "text/plain": [
       "          id        f0        f1        f2     product\n",
       "89815  vRoQe  1.581175 -0.381228  1.407111  131.846446\n",
       "44901  h9TNw -0.284751  1.128217 -2.779204   85.556985\n",
       "94535  sJkPS -0.823891  0.597064  7.075726   51.464814\n",
       "58425  HDmuL  0.527858  0.798474 -3.123894  107.800629\n",
       "61188  ocjXa  1.193557 -0.538374  4.061362   96.037068"
      ]
     },
     "metadata": {},
     "output_type": "display_data"
    },
    {
     "name": "stdout",
     "output_type": "stream",
     "text": [
      "<class 'pandas.core.frame.DataFrame'>\n",
      "RangeIndex: 100000 entries, 0 to 99999\n",
      "Data columns (total 5 columns):\n",
      "id         100000 non-null object\n",
      "f0         100000 non-null float64\n",
      "f1         100000 non-null float64\n",
      "f2         100000 non-null float64\n",
      "product    100000 non-null float64\n",
      "dtypes: float64(4), object(1)\n",
      "memory usage: 3.8+ MB\n",
      "\n",
      "----------------------------------------------\n",
      "Второй датасет\n"
     ]
    },
    {
     "data": {
      "text/html": [
       "<div>\n",
       "<style scoped>\n",
       "    .dataframe tbody tr th:only-of-type {\n",
       "        vertical-align: middle;\n",
       "    }\n",
       "\n",
       "    .dataframe tbody tr th {\n",
       "        vertical-align: top;\n",
       "    }\n",
       "\n",
       "    .dataframe thead th {\n",
       "        text-align: right;\n",
       "    }\n",
       "</style>\n",
       "<table border=\"1\" class=\"dataframe\">\n",
       "  <thead>\n",
       "    <tr style=\"text-align: right;\">\n",
       "      <th></th>\n",
       "      <th>id</th>\n",
       "      <th>f0</th>\n",
       "      <th>f1</th>\n",
       "      <th>f2</th>\n",
       "      <th>product</th>\n",
       "    </tr>\n",
       "  </thead>\n",
       "  <tbody>\n",
       "    <tr>\n",
       "      <td>57228</td>\n",
       "      <td>tK9hr</td>\n",
       "      <td>7.411635</td>\n",
       "      <td>-2.108015</td>\n",
       "      <td>0.992702</td>\n",
       "      <td>26.953261</td>\n",
       "    </tr>\n",
       "    <tr>\n",
       "      <td>8020</td>\n",
       "      <td>uUClY</td>\n",
       "      <td>2.438856</td>\n",
       "      <td>-11.328348</td>\n",
       "      <td>0.010897</td>\n",
       "      <td>3.179103</td>\n",
       "    </tr>\n",
       "    <tr>\n",
       "      <td>31251</td>\n",
       "      <td>M9NDt</td>\n",
       "      <td>-2.475872</td>\n",
       "      <td>-6.620834</td>\n",
       "      <td>3.998700</td>\n",
       "      <td>110.992147</td>\n",
       "    </tr>\n",
       "    <tr>\n",
       "      <td>49071</td>\n",
       "      <td>u0Aup</td>\n",
       "      <td>-1.471323</td>\n",
       "      <td>-8.986554</td>\n",
       "      <td>4.003888</td>\n",
       "      <td>110.992147</td>\n",
       "    </tr>\n",
       "    <tr>\n",
       "      <td>37673</td>\n",
       "      <td>BIoNr</td>\n",
       "      <td>-7.849254</td>\n",
       "      <td>-9.731827</td>\n",
       "      <td>3.997339</td>\n",
       "      <td>110.992147</td>\n",
       "    </tr>\n",
       "  </tbody>\n",
       "</table>\n",
       "</div>"
      ],
      "text/plain": [
       "          id        f0         f1        f2     product\n",
       "57228  tK9hr  7.411635  -2.108015  0.992702   26.953261\n",
       "8020   uUClY  2.438856 -11.328348  0.010897    3.179103\n",
       "31251  M9NDt -2.475872  -6.620834  3.998700  110.992147\n",
       "49071  u0Aup -1.471323  -8.986554  4.003888  110.992147\n",
       "37673  BIoNr -7.849254  -9.731827  3.997339  110.992147"
      ]
     },
     "metadata": {},
     "output_type": "display_data"
    },
    {
     "name": "stdout",
     "output_type": "stream",
     "text": [
      "<class 'pandas.core.frame.DataFrame'>\n",
      "RangeIndex: 100000 entries, 0 to 99999\n",
      "Data columns (total 5 columns):\n",
      "id         100000 non-null object\n",
      "f0         100000 non-null float64\n",
      "f1         100000 non-null float64\n",
      "f2         100000 non-null float64\n",
      "product    100000 non-null float64\n",
      "dtypes: float64(4), object(1)\n",
      "memory usage: 3.8+ MB\n",
      "\n",
      "----------------------------------------------\n",
      "Третий датасет\n"
     ]
    },
    {
     "data": {
      "text/html": [
       "<div>\n",
       "<style scoped>\n",
       "    .dataframe tbody tr th:only-of-type {\n",
       "        vertical-align: middle;\n",
       "    }\n",
       "\n",
       "    .dataframe tbody tr th {\n",
       "        vertical-align: top;\n",
       "    }\n",
       "\n",
       "    .dataframe thead th {\n",
       "        text-align: right;\n",
       "    }\n",
       "</style>\n",
       "<table border=\"1\" class=\"dataframe\">\n",
       "  <thead>\n",
       "    <tr style=\"text-align: right;\">\n",
       "      <th></th>\n",
       "      <th>id</th>\n",
       "      <th>f0</th>\n",
       "      <th>f1</th>\n",
       "      <th>f2</th>\n",
       "      <th>product</th>\n",
       "    </tr>\n",
       "  </thead>\n",
       "  <tbody>\n",
       "    <tr>\n",
       "      <td>32246</td>\n",
       "      <td>D7CCR</td>\n",
       "      <td>1.745177</td>\n",
       "      <td>0.349746</td>\n",
       "      <td>3.212730</td>\n",
       "      <td>86.233827</td>\n",
       "    </tr>\n",
       "    <tr>\n",
       "      <td>50795</td>\n",
       "      <td>IOyMH</td>\n",
       "      <td>1.014732</td>\n",
       "      <td>2.623671</td>\n",
       "      <td>-0.183074</td>\n",
       "      <td>136.225803</td>\n",
       "    </tr>\n",
       "    <tr>\n",
       "      <td>51562</td>\n",
       "      <td>JpFbn</td>\n",
       "      <td>0.488106</td>\n",
       "      <td>-0.510178</td>\n",
       "      <td>5.496098</td>\n",
       "      <td>108.461265</td>\n",
       "    </tr>\n",
       "    <tr>\n",
       "      <td>69871</td>\n",
       "      <td>o4n3D</td>\n",
       "      <td>2.084213</td>\n",
       "      <td>-2.582814</td>\n",
       "      <td>4.015725</td>\n",
       "      <td>135.985468</td>\n",
       "    </tr>\n",
       "    <tr>\n",
       "      <td>19253</td>\n",
       "      <td>Ccrnp</td>\n",
       "      <td>0.346824</td>\n",
       "      <td>-2.764498</td>\n",
       "      <td>6.292081</td>\n",
       "      <td>150.959120</td>\n",
       "    </tr>\n",
       "  </tbody>\n",
       "</table>\n",
       "</div>"
      ],
      "text/plain": [
       "          id        f0        f1        f2     product\n",
       "32246  D7CCR  1.745177  0.349746  3.212730   86.233827\n",
       "50795  IOyMH  1.014732  2.623671 -0.183074  136.225803\n",
       "51562  JpFbn  0.488106 -0.510178  5.496098  108.461265\n",
       "69871  o4n3D  2.084213 -2.582814  4.015725  135.985468\n",
       "19253  Ccrnp  0.346824 -2.764498  6.292081  150.959120"
      ]
     },
     "metadata": {},
     "output_type": "display_data"
    },
    {
     "name": "stdout",
     "output_type": "stream",
     "text": [
      "<class 'pandas.core.frame.DataFrame'>\n",
      "RangeIndex: 100000 entries, 0 to 99999\n",
      "Data columns (total 5 columns):\n",
      "id         100000 non-null object\n",
      "f0         100000 non-null float64\n",
      "f1         100000 non-null float64\n",
      "f2         100000 non-null float64\n",
      "product    100000 non-null float64\n",
      "dtypes: float64(4), object(1)\n",
      "memory usage: 3.8+ MB\n"
     ]
    }
   ],
   "source": [
    "df_1 = pd.read_csv(\"/datasets/geo_data_0.csv\")\n",
    "df_2 = pd.read_csv(\"/datasets/geo_data_1.csv\")\n",
    "df_3 = pd.read_csv(\"/datasets/geo_data_2.csv\")\n",
    "\n",
    "print('Первый датасет')\n",
    "display(df_1.sample(5))\n",
    "df_1.info()\n",
    "print('')\n",
    "\n",
    "print('----------------------------------------------')\n",
    "print('Второй датасет')\n",
    "display(df_2.sample(5))\n",
    "df_2.info()\n",
    "print('')\n",
    "\n",
    "print('----------------------------------------------')\n",
    "print('Третий датасет')\n",
    "display(df_3.sample(5))\n",
    "df_3.info()"
   ]
  },
  {
   "cell_type": "markdown",
   "metadata": {},
   "source": [
    "В данных есть следующие столбцы:\n",
    "* `id` — уникальный идентификатор скважины;\n",
    "* `f0`, `f1`, `f2` — три признака точек (неважно, что они означают, но сами признаки значимы);\n",
    "* `product` — объём запасов в скважине (тыс. баррелей)."
   ]
  },
  {
   "cell_type": "markdown",
   "metadata": {},
   "source": [
    "Проверим данные на дубликаты."
   ]
  },
  {
   "cell_type": "code",
   "execution_count": 3,
   "metadata": {},
   "outputs": [
    {
     "name": "stdout",
     "output_type": "stream",
     "text": [
      "0\n",
      "0\n",
      "0\n"
     ]
    }
   ],
   "source": [
    "print(df_1.duplicated().sum())\n",
    "print(df_2.duplicated().sum())\n",
    "print(df_3.duplicated().sum())"
   ]
  },
  {
   "cell_type": "markdown",
   "metadata": {},
   "source": [
    "Дубликатов нет."
   ]
  },
  {
   "cell_type": "markdown",
   "metadata": {},
   "source": [
    "Посмотрим на распределение в данных."
   ]
  },
  {
   "cell_type": "code",
   "execution_count": 4,
   "metadata": {
    "scrolled": false
   },
   "outputs": [
    {
     "data": {
      "image/png": "[encoded data removed]",
      "text/plain": [
       "<Figure size 1440x1080 with 12 Axes>"
      ]
     },
     "metadata": {
      "needs_background": "light"
     },
     "output_type": "display_data"
    }
   ],
   "source": [
    "fig,ax = plt.subplots(3,4,figsize = (20,15))\n",
    "\n",
    "name_df = [\"df_1\",\"df_2\",\"df_3\"]\n",
    "columns = df_1.columns[1:]\n",
    "num_columns_with_columns = zip(df_1.columns[1:], range(4))\n",
    "name_df_with_columns = zip([df_1, df_2, df_3], range(3))\n",
    "\n",
    "for column in list(itertools.product(name_df_with_columns, num_columns_with_columns)):\n",
    "    ax[column[0][1]][column[1][1]].boxplot(column[0][0][column[1][0]])\n",
    "\n",
    "for row in range(3):\n",
    "    ax[row][0].set_ylabel(name_df[row])\n",
    "\n",
    "for column in range(4):\n",
    "    ax[0][column].set_title(columns[column])"
   ]
  },
  {
   "cell_type": "markdown",
   "metadata": {},
   "source": [
    "В данных есть выбросы. Разберёмся с ними."
   ]
  },
  {
   "cell_type": "code",
   "execution_count": 5,
   "metadata": {},
   "outputs": [
    {
     "name": "stdout",
     "output_type": "stream",
     "text": [
      "Процент строк для удаления: 0.51%\n",
      "Процент строк для удаления: 0.64%\n",
      "Процент строк для удаления: 0.73%\n",
      "Процент строк для удаления: 0.69%\n",
      "Процент строк для удаления: 0.59%\n"
     ]
    }
   ],
   "source": [
    "def remove(frame,column):\n",
    "    q25=np.array(frame[column].quantile(0.25))\n",
    "    \n",
    "    q75=np.array(frame[column].quantile(0.75))\n",
    "    first_part=q25-1.5*(q75-q25)\n",
    "    second_part=q75+1.5*(q75-q25)\n",
    "    del_index = []\n",
    "    for index_value, value in zip(frame[column].index,frame[column]):\n",
    "        if second_part <= value or value <= first_part:\n",
    "            del_index.append(index_value)\n",
    "    \n",
    "    print('Процент строк для удаления: {:.2%}'.format(len(del_index)/len(frame[column])))\n",
    "    return del_index\n",
    "\n",
    "noise_data = [(df_1, \"f2\"),\n",
    "              (df_2, \"f1\"),\n",
    "              (df_3, \"f0\"),\n",
    "              (df_3, \"f1\"),\n",
    "              (df_3, \"f2\")]\n",
    "\n",
    "for frame,column in noise_data:\n",
    "    indexes = remove(frame,column)\n",
    "    frame.drop(indexes,axis = 0,inplace = True)\n",
    "    \n",
    "df_1 = df_1.reset_index(drop = True)\n",
    "df_2 = df_2.reset_index(drop = True)\n",
    "df_3 = df_3.reset_index(drop = True)"
   ]
  },
  {
   "cell_type": "markdown",
   "metadata": {},
   "source": [
    "Потеря данных во всех датасетах меньше 1%."
   ]
  },
  {
   "cell_type": "markdown",
   "metadata": {},
   "source": [
    "Проверим датасеты на мультиколлинеарность признаков."
   ]
  },
  {
   "cell_type": "code",
   "execution_count": 6,
   "metadata": {},
   "outputs": [
    {
     "name": "stdout",
     "output_type": "stream",
     "text": [
      "Первый датасет\n"
     ]
    },
    {
     "data": {
      "text/html": [
       "<div>\n",
       "<style scoped>\n",
       "    .dataframe tbody tr th:only-of-type {\n",
       "        vertical-align: middle;\n",
       "    }\n",
       "\n",
       "    .dataframe tbody tr th {\n",
       "        vertical-align: top;\n",
       "    }\n",
       "\n",
       "    .dataframe thead th {\n",
       "        text-align: right;\n",
       "    }\n",
       "</style>\n",
       "<table border=\"1\" class=\"dataframe\">\n",
       "  <thead>\n",
       "    <tr style=\"text-align: right;\">\n",
       "      <th></th>\n",
       "      <th>f0</th>\n",
       "      <th>f1</th>\n",
       "      <th>f2</th>\n",
       "      <th>product</th>\n",
       "    </tr>\n",
       "  </thead>\n",
       "  <tbody>\n",
       "    <tr>\n",
       "      <td>f0</td>\n",
       "      <td>1.000000</td>\n",
       "      <td>-0.440716</td>\n",
       "      <td>-0.003339</td>\n",
       "      <td>0.143591</td>\n",
       "    </tr>\n",
       "    <tr>\n",
       "      <td>f1</td>\n",
       "      <td>-0.440716</td>\n",
       "      <td>1.000000</td>\n",
       "      <td>0.001098</td>\n",
       "      <td>-0.192748</td>\n",
       "    </tr>\n",
       "    <tr>\n",
       "      <td>f2</td>\n",
       "      <td>-0.003339</td>\n",
       "      <td>0.001098</td>\n",
       "      <td>1.000000</td>\n",
       "      <td>0.480159</td>\n",
       "    </tr>\n",
       "    <tr>\n",
       "      <td>product</td>\n",
       "      <td>0.143591</td>\n",
       "      <td>-0.192748</td>\n",
       "      <td>0.480159</td>\n",
       "      <td>1.000000</td>\n",
       "    </tr>\n",
       "  </tbody>\n",
       "</table>\n",
       "</div>"
      ],
      "text/plain": [
       "               f0        f1        f2   product\n",
       "f0       1.000000 -0.440716 -0.003339  0.143591\n",
       "f1      -0.440716  1.000000  0.001098 -0.192748\n",
       "f2      -0.003339  0.001098  1.000000  0.480159\n",
       "product  0.143591 -0.192748  0.480159  1.000000"
      ]
     },
     "metadata": {},
     "output_type": "display_data"
    },
    {
     "name": "stdout",
     "output_type": "stream",
     "text": [
      "\n",
      "---------------------------------\n",
      "Второй датасет\n"
     ]
    },
    {
     "data": {
      "text/html": [
       "<div>\n",
       "<style scoped>\n",
       "    .dataframe tbody tr th:only-of-type {\n",
       "        vertical-align: middle;\n",
       "    }\n",
       "\n",
       "    .dataframe tbody tr th {\n",
       "        vertical-align: top;\n",
       "    }\n",
       "\n",
       "    .dataframe thead th {\n",
       "        text-align: right;\n",
       "    }\n",
       "</style>\n",
       "<table border=\"1\" class=\"dataframe\">\n",
       "  <thead>\n",
       "    <tr style=\"text-align: right;\">\n",
       "      <th></th>\n",
       "      <th>f0</th>\n",
       "      <th>f1</th>\n",
       "      <th>f2</th>\n",
       "      <th>product</th>\n",
       "    </tr>\n",
       "  </thead>\n",
       "  <tbody>\n",
       "    <tr>\n",
       "      <td>f0</td>\n",
       "      <td>1.000000</td>\n",
       "      <td>0.178877</td>\n",
       "      <td>-0.001670</td>\n",
       "      <td>-0.030389</td>\n",
       "    </tr>\n",
       "    <tr>\n",
       "      <td>f1</td>\n",
       "      <td>0.178877</td>\n",
       "      <td>1.000000</td>\n",
       "      <td>-0.002756</td>\n",
       "      <td>-0.010174</td>\n",
       "    </tr>\n",
       "    <tr>\n",
       "      <td>f2</td>\n",
       "      <td>-0.001670</td>\n",
       "      <td>-0.002756</td>\n",
       "      <td>1.000000</td>\n",
       "      <td>0.999397</td>\n",
       "    </tr>\n",
       "    <tr>\n",
       "      <td>product</td>\n",
       "      <td>-0.030389</td>\n",
       "      <td>-0.010174</td>\n",
       "      <td>0.999397</td>\n",
       "      <td>1.000000</td>\n",
       "    </tr>\n",
       "  </tbody>\n",
       "</table>\n",
       "</div>"
      ],
      "text/plain": [
       "               f0        f1        f2   product\n",
       "f0       1.000000  0.178877 -0.001670 -0.030389\n",
       "f1       0.178877  1.000000 -0.002756 -0.010174\n",
       "f2      -0.001670 -0.002756  1.000000  0.999397\n",
       "product -0.030389 -0.010174  0.999397  1.000000"
      ]
     },
     "metadata": {},
     "output_type": "display_data"
    },
    {
     "name": "stdout",
     "output_type": "stream",
     "text": [
      "\n",
      "---------------------------------\n",
      "Третий датасет\n"
     ]
    },
    {
     "data": {
      "text/html": [
       "<div>\n",
       "<style scoped>\n",
       "    .dataframe tbody tr th:only-of-type {\n",
       "        vertical-align: middle;\n",
       "    }\n",
       "\n",
       "    .dataframe tbody tr th {\n",
       "        vertical-align: top;\n",
       "    }\n",
       "\n",
       "    .dataframe thead th {\n",
       "        text-align: right;\n",
       "    }\n",
       "</style>\n",
       "<table border=\"1\" class=\"dataframe\">\n",
       "  <thead>\n",
       "    <tr style=\"text-align: right;\">\n",
       "      <th></th>\n",
       "      <th>f0</th>\n",
       "      <th>f1</th>\n",
       "      <th>f2</th>\n",
       "      <th>product</th>\n",
       "    </tr>\n",
       "  </thead>\n",
       "  <tbody>\n",
       "    <tr>\n",
       "      <td>f0</td>\n",
       "      <td>1.000000</td>\n",
       "      <td>0.000649</td>\n",
       "      <td>0.000473</td>\n",
       "      <td>-0.002962</td>\n",
       "    </tr>\n",
       "    <tr>\n",
       "      <td>f1</td>\n",
       "      <td>0.000649</td>\n",
       "      <td>1.000000</td>\n",
       "      <td>0.000710</td>\n",
       "      <td>-0.000895</td>\n",
       "    </tr>\n",
       "    <tr>\n",
       "      <td>f2</td>\n",
       "      <td>0.000473</td>\n",
       "      <td>0.000710</td>\n",
       "      <td>1.000000</td>\n",
       "      <td>0.441211</td>\n",
       "    </tr>\n",
       "    <tr>\n",
       "      <td>product</td>\n",
       "      <td>-0.002962</td>\n",
       "      <td>-0.000895</td>\n",
       "      <td>0.441211</td>\n",
       "      <td>1.000000</td>\n",
       "    </tr>\n",
       "  </tbody>\n",
       "</table>\n",
       "</div>"
      ],
      "text/plain": [
       "               f0        f1        f2   product\n",
       "f0       1.000000  0.000649  0.000473 -0.002962\n",
       "f1       0.000649  1.000000  0.000710 -0.000895\n",
       "f2       0.000473  0.000710  1.000000  0.441211\n",
       "product -0.002962 -0.000895  0.441211  1.000000"
      ]
     },
     "metadata": {},
     "output_type": "display_data"
    }
   ],
   "source": [
    "print('Первый датасет')\n",
    "display(df_1.corr())\n",
    "print('')\n",
    "print('---------------------------------')\n",
    "print('Второй датасет')\n",
    "display(df_2.corr())\n",
    "print('')\n",
    "print('---------------------------------')\n",
    "print('Третий датасет')\n",
    "display(df_3.corr())"
   ]
  },
  {
   "cell_type": "markdown",
   "metadata": {},
   "source": [
    "Мультиколлинеарности признаков нет."
   ]
  },
  {
   "cell_type": "markdown",
   "metadata": {},
   "source": [
    "## Обучение и проверка модели"
   ]
  },
  {
   "cell_type": "code",
   "execution_count": 7,
   "metadata": {},
   "outputs": [
    {
     "name": "stdout",
     "output_type": "stream",
     "text": [
      "Среднеквадратичная ошибка\n"
     ]
    },
    {
     "data": {
      "text/plain": [
       "{'df_1': 37.922930890531454,\n",
       " 'df_2': 0.889447814640159,\n",
       " 'df_3': 40.17679711012713}"
      ]
     },
     "metadata": {},
     "output_type": "display_data"
    }
   ],
   "source": [
    "array_name = [\"df_1\", \"df_2\", \"df_3\"]\n",
    "\n",
    "array_frame = [df_1, df_2, df_3]\n",
    "\n",
    "data_dict = {\"pipelines\":{},\"scores\":{},\"valid\":{}}\n",
    "\n",
    "for frame, name in zip(array_frame, array_name):\n",
    "    \n",
    "    features = frame.drop([\"id\",\"product\"], axis = 1)\n",
    "    target = frame[\"product\"]\n",
    "    \n",
    "    (features_train, features_valid, target_train, target_valid) = train_test_split(\n",
    "        features, target, test_size = 0.25, random_state = RANDOM)\n",
    "    \n",
    "    data_dict['valid'][name] = (features_valid, target_valid)\n",
    "    \n",
    "    new_pipeline = make_pipeline(StandardScaler(), LinearRegression())\n",
    "    new_pipeline.fit(features_train, target_train)\n",
    "    \n",
    "    data_dict['pipelines'][name] = new_pipeline\n",
    "    data_dict['scores'][name] = mean_squared_error(target_valid, new_pipeline.predict(features_valid))**0.5\n",
    "   \n",
    "print('Среднеквадратичная ошибка')\n",
    "display(data_dict['scores'])"
   ]
  },
  {
   "cell_type": "code",
   "execution_count": 8,
   "metadata": {},
   "outputs": [
    {
     "name": "stdout",
     "output_type": "stream",
     "text": [
      "Первый датасет\n"
     ]
    },
    {
     "data": {
      "text/plain": [
       "({'Средний запас:': 92.72476770114889, 'RMSE модели:': 37.922930890531454},)"
      ]
     },
     "metadata": {},
     "output_type": "display_data"
    },
    {
     "name": "stdout",
     "output_type": "stream",
     "text": [
      "\n",
      "Второй датасет\n"
     ]
    },
    {
     "data": {
      "text/plain": [
       "({'Средний запас:': 68.59166978153503, 'RMSE модели:': 0.889447814640159},)"
      ]
     },
     "metadata": {},
     "output_type": "display_data"
    },
    {
     "name": "stdout",
     "output_type": "stream",
     "text": [
      "\n",
      "Третий датасет\n"
     ]
    },
    {
     "data": {
      "text/plain": [
       "{'Средний запас:': 94.6771691321233, 'RMSE модели:': 40.17679711012713}"
      ]
     },
     "metadata": {},
     "output_type": "display_data"
    }
   ],
   "source": [
    "best_model_df_1 = data_dict['pipelines']['df_1']\n",
    "best_model_df_2 = data_dict['pipelines']['df_2']\n",
    "best_model_df_3 = data_dict['pipelines']['df_3']\n",
    "\n",
    "predicted_values_df_1 = best_model_df_1.predict(data_dict['valid']['df_1'][0])\n",
    "predicted_values_df_2 = best_model_df_2.predict(data_dict['valid']['df_2'][0])\n",
    "predicted_values_df_3 = best_model_df_3.predict(data_dict['valid']['df_3'][0])\n",
    "\n",
    "RMSE_model_df_1  = (mean_squared_error(data_dict['valid']['df_1'][1],predicted_values_df_1))**0.5\n",
    "RMSE_model_df_2  = (mean_squared_error(data_dict['valid']['df_2'][1],predicted_values_df_2))**0.5\n",
    "RMSE_model_df_3  = (mean_squared_error(data_dict['valid']['df_3'][1],predicted_values_df_3))**0.5\n",
    "\n",
    "df_1_info = {'Средний запас:':predicted_values_df_1.mean(),\n",
    "            \"RMSE модели:\":RMSE_model_df_1},\n",
    "df_2_info = {'Средний запас:':predicted_values_df_2.mean(),\n",
    "            \"RMSE модели:\":RMSE_model_df_2},\n",
    "df_3_info = {'Средний запас:':predicted_values_df_3.mean(),\n",
    "            \"RMSE модели:\":RMSE_model_df_3}\n",
    "\n",
    "print('Первый датасет')\n",
    "display(df_1_info)\n",
    "print('')\n",
    "print('Второй датасет')\n",
    "display(df_2_info)\n",
    "print('')\n",
    "print('Третий датасет')\n",
    "display(df_3_info)"
   ]
  },
  {
   "cell_type": "markdown",
   "metadata": {},
   "source": [
    "**Вывод**\n",
    "* Первый регион: средний запас высокий, на втором месте среди других регионов, среднеквадратичная ошибка так же на втором месте, но достаточно большая.\n",
    "* Второй регион: низкий относительно других регионов средний запас, но ошбка очень маленькая, что является хорошим показателем.\n",
    "* Третий регион: самый высокий показатель запаса, но и самая высокая ошибка."
   ]
  },
  {
   "cell_type": "markdown",
   "metadata": {},
   "source": [
    "## Подготовка к расчёту прибыли"
   ]
  },
  {
   "cell_type": "code",
   "execution_count": 9,
   "metadata": {},
   "outputs": [
    {
     "name": "stdout",
     "output_type": "stream",
     "text": [
      "Достаточный объем добычи для безубыточной разработки 111.11\n"
     ]
    }
   ],
   "source": [
    "BUDGET = 10**10            #Бюджет на разработку скважин в регионе — 10 млрд рублей\n",
    "PRE_MAX_POINTS = 500       #При разведке региона исследуют 500 точек, из которых\n",
    "FINAL_MAX_POINTS = 200     #с помощью машинного обучения выбирают 200 лучших для разработки\n",
    "PRICE_PER_BARREL = 450000  #Доход с каждой единицы продукта составляет 450 тыс. рублей\n",
    "DAMAGE_THRESHOLD =  0.025  #вероятность убытков меньше 2.5%\n",
    "\n",
    "#достаточный объём сырья для безубыточной разработки новой скважины\n",
    "NON_DAMAGE_POINT = (BUDGET/PRICE_PER_BARREL)/FINAL_MAX_POINTS\n",
    "print(\"Достаточный объем добычи для безубыточной разработки\",round(NON_DAMAGE_POINT,2))"
   ]
  },
  {
   "cell_type": "markdown",
   "metadata": {},
   "source": [
    "Судя по средним запасам, ни один из регионов не дотягивает до безубыточного значения."
   ]
  },
  {
   "cell_type": "markdown",
   "metadata": {},
   "source": [
    "Попробуем подобрать процент скважин, которые подойдут для достаточного объёма."
   ]
  },
  {
   "cell_type": "code",
   "execution_count": 10,
   "metadata": {},
   "outputs": [
    {
     "name": "stdout",
     "output_type": "stream",
     "text": [
      "35% скважин в первом регионе содержат больше сырья, чем  113.1\n",
      "16% скважин во втором регионе содержат больше сырья, чем  134.77\n",
      "35% скважин в третьем регионе содержат больше сырья, чем  115.36\n"
     ]
    }
   ],
   "source": [
    "print(\"35% скважин в первом регионе содержат больше сырья, чем \",\n",
    "      round(df_1[\"product\"].quantile(0.65),2))\n",
    "print(\"16% скважин во втором регионе содержат больше сырья, чем \",\n",
    "      round(df_2[\"product\"].quantile(0.84),2))\n",
    "print(\"35% скважин в третьем регионе содержат больше сырья, чем \",\n",
    "      round(df_3[\"product\"].quantile(0.65),2))"
   ]
  },
  {
   "cell_type": "markdown",
   "metadata": {},
   "source": [
    "**Вывод**\n",
    "* Достаточный объем добычи для безубыточной разработки 111.11 тыс. баррелей.\n",
    "* Судя по средним запасам, ни один из регионов не дотягивает до безубыточного значения.\n",
    "* Только 35% скважин в первом регионе, 16% во втором и 35% в третьем регионе проходят порог для безубыточной разработки."
   ]
  },
  {
   "cell_type": "markdown",
   "metadata": {},
   "source": [
    "## Расчёт прибыли и рисков "
   ]
  },
  {
   "cell_type": "markdown",
   "metadata": {},
   "source": [
    "**Расчёт прибыли**"
   ]
  },
  {
   "cell_type": "code",
   "execution_count": 11,
   "metadata": {},
   "outputs": [
    {
     "name": "stdout",
     "output_type": "stream",
     "text": [
      "Прибыль с лучших 200 скважин в первом регионе: 3346905536.45\n",
      "Прибыль с лучших 200 скважин во втором регионе: 2415086696.68\n",
      "Прибыль с лучших 200 скважин в третьем регионе: 2459604164.14\n"
     ]
    }
   ],
   "source": [
    "def income(true_target, pred_target):\n",
    "    sort_series = pd.Series(pred_target).sort_values(ascending=False)[:FINAL_MAX_POINTS]\n",
    "    true_target_sort = (true_target.reset_index(drop=True)[sort_series.index])\n",
    "    sum_true = true_target_sort.sum() \n",
    "    return round((sum_true * PRICE_PER_BARREL) - BUDGET_PER_REGION,2)\n",
    "\n",
    "print(\"Прибыль с лучших 200 скважин в первом регионе:\",\n",
    "      income(data_dict['valid']['df_1'][1], predicted_values_df_1))\n",
    "print(\"Прибыль с лучших 200 скважин во втором регионе:\",\n",
    "      income(data_dict['valid']['df_2'][1], predicted_values_df_2))\n",
    "print(\"Прибыль с лучших 200 скважин в третьем регионе:\",\n",
    "      income(data_dict['valid']['df_3'][1],predicted_values_df_3))"
   ]
  },
  {
   "cell_type": "markdown",
   "metadata": {},
   "source": [
    "**Расчёт прибыли и рисков с помощью Bootstrap** "
   ]
  },
  {
   "cell_type": "code",
   "execution_count": 12,
   "metadata": {},
   "outputs": [
    {
     "name": "stderr",
     "output_type": "stream",
     "text": [
      "100%|██████████| 1000/1000 [00:02<00:00, 339.52it/s]\n",
      "  3%|▎         | 34/1000 [00:00<00:02, 331.25it/s]"
     ]
    },
    {
     "name": "stdout",
     "output_type": "stream",
     "text": [
      "Средний доход: 365761564.95741004\n",
      "Риск: 9.1 %\n",
      "95% доверительный итервал для первого региона: (-164254187.65, 893337075.24)\n",
      "\n"
     ]
    },
    {
     "name": "stderr",
     "output_type": "stream",
     "text": [
      "100%|██████████| 1000/1000 [00:03<00:00, 325.61it/s]\n",
      "  3%|▎         | 32/1000 [00:00<00:03, 316.60it/s]"
     ]
    },
    {
     "name": "stdout",
     "output_type": "stream",
     "text": [
      "Средний доход: 437734843.30366004\n",
      "Риск: 1.9 %\n",
      "95% Доверительный итервал для второго региона: (51491482.0, 818942568.31)\n",
      "\n"
     ]
    },
    {
     "name": "stderr",
     "output_type": "stream",
     "text": [
      "100%|██████████| 1000/1000 [00:03<00:00, 331.31it/s]"
     ]
    },
    {
     "name": "stdout",
     "output_type": "stream",
     "text": [
      "Средний доход: 345027189.33247006\n",
      "Риск: 10.4 %\n",
      "95% Доверительный итервал для тервого  региона: (-215797840.7, 896605699.99)\n"
     ]
    },
    {
     "name": "stderr",
     "output_type": "stream",
     "text": [
      "\n"
     ]
    }
   ],
   "source": [
    "def confidence_interval(true_target,pred_target):\n",
    "    samples = []\n",
    "    for i in tqdm(range(1000)):\n",
    "        sample = pd.Series(pred_target).sample(n = PRE_MAX_POINTS, replace=True, random_state=state)\n",
    "        samples.append(income(true_target,sample))\n",
    "    samples = pd.Series(samples)\n",
    "    print(\"Средний доход:\", samples.mean())\n",
    "    print(\"Риск:\", samples.apply(lambda x: x < 0).sum()/len(samples)*100,\"%\")\n",
    "    \n",
    "    lower = samples.quantile(0.025)\n",
    "    upper = samples.quantile(0.975)\n",
    "    return round(lower,2), round(upper,2)\n",
    "\n",
    "print(\"95% доверительный итервал для первого региона:\",\n",
    "      confidence_interval(data_dict['valid']['df_1'][1],pd.Series(predicted_values_df_1)))\n",
    "print()\n",
    "print(\"95% Доверительный итервал для второго региона:\",\n",
    "      confidence_interval(data_dict['valid']['df_2'][1],predicted_values_df_2))\n",
    "print()\n",
    "print(\"95% Доверительный итервал для тервого  региона:\",\n",
    "      confidence_interval(data_dict['valid']['df_3'][1],predicted_values_df_3))"
   ]
  },
  {
   "cell_type": "markdown",
   "metadata": {},
   "source": [
    "**Вывод**\n",
    "* Прибыль с 200 лучших скважин превышает достаточный объем добычи для безубыточной разработки.\n",
    "* При расчёте техникой Bootstrap:\n",
    "  * Первый регион: средний доход превышает необходимый, риск составляет 9.1%, однако доверительный интервал очень большой.\n",
    "  * Второй регион: средний доход превышает необходимый, риск составляет 1.9%, доверительный интервал довольно таки большой, но гораздо меньше, чем у других регионов.\n",
    "  * Третий регион: средний доход превышает необходимый, риск составляет 10.4%, однако доверительный интервал очень большой.\n",
    "* Таким образом, наилучшим регионом для разработки новых скважин служит второй регион."
   ]
  }
 ],
 "metadata": {
  "ExecuteTimeLog": [
   {
    "duration": 1453,
    "start_time": "2022-02-18T12:01:22.595Z"
   },
   {
    "duration": 490,
    "start_time": "2022-02-18T12:03:52.696Z"
   },
   {
    "duration": 655,
    "start_time": "2022-02-18T12:04:37.336Z"
   },
   {
    "duration": 574,
    "start_time": "2022-02-18T12:05:16.747Z"
   },
   {
    "duration": 2319,
    "start_time": "2022-02-18T12:19:06.878Z"
   },
   {
    "duration": 7,
    "start_time": "2022-02-18T20:25:26.727Z"
   },
   {
    "duration": 457,
    "start_time": "2022-02-18T20:26:41.329Z"
   },
   {
    "duration": 374,
    "start_time": "2022-02-18T20:26:49.661Z"
   },
   {
    "duration": 376,
    "start_time": "2022-02-18T20:28:05.636Z"
   },
   {
    "duration": 1510,
    "start_time": "2022-02-18T20:29:30.282Z"
   },
   {
    "duration": 544,
    "start_time": "2022-02-18T20:29:31.796Z"
   },
   {
    "duration": 2304,
    "start_time": "2022-02-18T20:29:32.362Z"
   },
   {
    "duration": 379,
    "start_time": "2022-02-18T20:29:34.670Z"
   },
   {
    "duration": 393,
    "start_time": "2022-02-18T20:31:12.656Z"
   },
   {
    "duration": 1388,
    "start_time": "2022-02-18T20:31:23.494Z"
   },
   {
    "duration": 549,
    "start_time": "2022-02-18T20:31:24.884Z"
   },
   {
    "duration": 2276,
    "start_time": "2022-02-18T20:31:25.467Z"
   },
   {
    "duration": 387,
    "start_time": "2022-02-18T20:31:27.746Z"
   },
   {
    "duration": 1497,
    "start_time": "2022-02-18T20:32:14.171Z"
   },
   {
    "duration": 538,
    "start_time": "2022-02-18T20:32:15.671Z"
   },
   {
    "duration": 2191,
    "start_time": "2022-02-18T20:32:16.216Z"
   },
   {
    "duration": 445,
    "start_time": "2022-02-18T20:32:18.410Z"
   },
   {
    "duration": 1536,
    "start_time": "2022-02-18T20:33:29.763Z"
   },
   {
    "duration": 571,
    "start_time": "2022-02-18T20:33:31.303Z"
   },
   {
    "duration": 2354,
    "start_time": "2022-02-18T20:33:31.877Z"
   },
   {
    "duration": 542,
    "start_time": "2022-02-18T20:33:34.233Z"
   },
   {
    "duration": 547,
    "start_time": "2022-02-18T20:34:18.845Z"
   },
   {
    "duration": 1591,
    "start_time": "2022-02-18T20:34:36.227Z"
   },
   {
    "duration": 773,
    "start_time": "2022-02-18T20:34:37.821Z"
   },
   {
    "duration": 2419,
    "start_time": "2022-02-18T20:34:38.598Z"
   },
   {
    "duration": 415,
    "start_time": "2022-02-18T20:34:41.020Z"
   },
   {
    "duration": 1503,
    "start_time": "2022-02-18T20:34:57.588Z"
   },
   {
    "duration": 537,
    "start_time": "2022-02-18T20:34:59.094Z"
   },
   {
    "duration": 3679,
    "start_time": "2022-02-18T20:34:59.635Z"
   },
   {
    "duration": 644,
    "start_time": "2022-02-18T20:35:03.317Z"
   },
   {
    "duration": 48,
    "start_time": "2022-02-18T20:40:39.257Z"
   },
   {
    "duration": 46,
    "start_time": "2022-02-18T20:41:04.339Z"
   },
   {
    "duration": 183,
    "start_time": "2022-02-18T20:46:49.679Z"
   },
   {
    "duration": 173,
    "start_time": "2022-02-18T20:47:06.607Z"
   },
   {
    "duration": 511,
    "start_time": "2022-02-18T20:55:07.986Z"
   },
   {
    "duration": 1405,
    "start_time": "2022-02-18T20:55:16.107Z"
   },
   {
    "duration": 526,
    "start_time": "2022-02-18T20:55:17.515Z"
   },
   {
    "duration": 203,
    "start_time": "2022-02-18T20:55:18.062Z"
   },
   {
    "duration": 2346,
    "start_time": "2022-02-18T20:55:18.268Z"
   },
   {
    "duration": 368,
    "start_time": "2022-02-18T20:55:20.616Z"
   },
   {
    "duration": 47,
    "start_time": "2022-02-18T20:55:20.987Z"
   },
   {
    "duration": 528,
    "start_time": "2022-02-18T20:55:21.061Z"
   },
   {
    "duration": 480,
    "start_time": "2022-02-18T20:56:08.381Z"
   },
   {
    "duration": 431,
    "start_time": "2022-02-18T20:58:01.462Z"
   },
   {
    "duration": 810,
    "start_time": "2022-02-18T20:58:09.523Z"
   },
   {
    "duration": 438,
    "start_time": "2022-02-18T20:58:13.539Z"
   },
   {
    "duration": 1543,
    "start_time": "2022-02-18T20:58:36.635Z"
   },
   {
    "duration": 556,
    "start_time": "2022-02-18T20:58:38.181Z"
   },
   {
    "duration": 206,
    "start_time": "2022-02-18T20:58:38.762Z"
   },
   {
    "duration": 2436,
    "start_time": "2022-02-18T20:58:38.971Z"
   },
   {
    "duration": 420,
    "start_time": "2022-02-18T20:58:41.410Z"
   },
   {
    "duration": 62,
    "start_time": "2022-02-18T20:58:41.833Z"
   },
   {
    "duration": 481,
    "start_time": "2022-02-18T20:58:41.898Z"
   },
   {
    "duration": 609,
    "start_time": "2022-02-18T21:05:29.514Z"
   },
   {
    "duration": 175,
    "start_time": "2022-02-18T21:05:49.387Z"
   },
   {
    "duration": 124,
    "start_time": "2022-02-18T21:07:03.483Z"
   },
   {
    "duration": 336,
    "start_time": "2022-02-18T21:07:07.933Z"
   },
   {
    "duration": 297,
    "start_time": "2022-02-18T21:07:21.370Z"
   },
   {
    "duration": 83,
    "start_time": "2022-02-18T21:09:31.490Z"
   },
   {
    "duration": 5,
    "start_time": "2022-02-18T21:37:25.986Z"
   },
   {
    "duration": 340,
    "start_time": "2022-02-18T21:37:56.589Z"
   },
   {
    "duration": 14,
    "start_time": "2022-02-18T21:38:07.457Z"
   },
   {
    "duration": 6,
    "start_time": "2022-02-18T21:38:24.397Z"
   },
   {
    "duration": 12,
    "start_time": "2022-02-18T21:40:15.548Z"
   },
   {
    "duration": 8,
    "start_time": "2022-02-18T21:53:23.885Z"
   },
   {
    "duration": 395,
    "start_time": "2022-02-18T21:56:04.948Z"
   },
   {
    "duration": 18,
    "start_time": "2022-02-18T21:56:26.314Z"
   },
   {
    "duration": 18,
    "start_time": "2022-02-18T21:57:37.898Z"
   },
   {
    "duration": 18,
    "start_time": "2022-02-18T21:57:54.521Z"
   },
   {
    "duration": 17,
    "start_time": "2022-02-18T21:58:07.937Z"
   },
   {
    "duration": 21,
    "start_time": "2022-02-18T21:58:14.113Z"
   },
   {
    "duration": 22,
    "start_time": "2022-02-18T21:58:25.688Z"
   },
   {
    "duration": 22,
    "start_time": "2022-02-18T21:58:45.697Z"
   },
   {
    "duration": 17,
    "start_time": "2022-02-18T21:58:57.754Z"
   },
   {
    "duration": 18,
    "start_time": "2022-02-18T21:59:05.536Z"
   },
   {
    "duration": 18,
    "start_time": "2022-02-18T21:59:09.784Z"
   },
   {
    "duration": 16,
    "start_time": "2022-02-18T21:59:12.690Z"
   },
   {
    "duration": 19,
    "start_time": "2022-02-18T21:59:18.657Z"
   },
   {
    "duration": 16,
    "start_time": "2022-02-18T21:59:28.641Z"
   },
   {
    "duration": 21,
    "start_time": "2022-02-18T21:59:34.313Z"
   },
   {
    "duration": 16,
    "start_time": "2022-02-18T21:59:49.646Z"
   },
   {
    "duration": 16,
    "start_time": "2022-02-18T21:59:55.600Z"
   },
   {
    "duration": 17,
    "start_time": "2022-02-18T22:01:02.600Z"
   },
   {
    "duration": 383,
    "start_time": "2022-02-18T22:09:14.020Z"
   },
   {
    "duration": 330,
    "start_time": "2022-02-18T22:10:19.059Z"
   },
   {
    "duration": 548,
    "start_time": "2022-02-18T22:11:02.516Z"
   },
   {
    "duration": 559,
    "start_time": "2022-02-18T22:12:31.043Z"
   },
   {
    "duration": 722,
    "start_time": "2022-02-18T22:12:38.106Z"
   },
   {
    "duration": 30,
    "start_time": "2022-02-18T22:12:58.522Z"
   },
   {
    "duration": 343,
    "start_time": "2022-02-18T22:23:13.645Z"
   },
   {
    "duration": 1643,
    "start_time": "2022-02-18T22:25:42.945Z"
   },
   {
    "duration": 571,
    "start_time": "2022-02-18T22:25:44.591Z"
   },
   {
    "duration": 227,
    "start_time": "2022-02-18T22:25:45.165Z"
   },
   {
    "duration": 2350,
    "start_time": "2022-02-18T22:25:45.395Z"
   },
   {
    "duration": 407,
    "start_time": "2022-02-18T22:25:47.760Z"
   },
   {
    "duration": 51,
    "start_time": "2022-02-18T22:25:48.170Z"
   },
   {
    "duration": 458,
    "start_time": "2022-02-18T22:25:48.224Z"
   },
   {
    "duration": 280,
    "start_time": "2022-02-18T22:25:48.685Z"
   },
   {
    "duration": 8,
    "start_time": "2022-02-18T22:25:48.970Z"
   },
   {
    "duration": 81,
    "start_time": "2022-02-18T22:25:48.981Z"
   },
   {
    "duration": 28,
    "start_time": "2022-02-18T22:25:49.065Z"
   },
   {
    "duration": 10336,
    "start_time": "2022-02-18T22:25:49.096Z"
   },
   {
    "duration": 8827,
    "start_time": "2022-02-18T22:26:37.736Z"
   },
   {
    "duration": 1468,
    "start_time": "2022-02-18T22:44:09.108Z"
   },
   {
    "duration": 549,
    "start_time": "2022-02-18T22:44:10.579Z"
   },
   {
    "duration": 247,
    "start_time": "2022-02-18T22:44:11.132Z"
   },
   {
    "duration": 2311,
    "start_time": "2022-02-18T22:44:11.382Z"
   },
   {
    "duration": 414,
    "start_time": "2022-02-18T22:44:13.695Z"
   },
   {
    "duration": 69,
    "start_time": "2022-02-18T22:44:14.112Z"
   },
   {
    "duration": 412,
    "start_time": "2022-02-18T22:44:14.184Z"
   },
   {
    "duration": 297,
    "start_time": "2022-02-18T22:44:14.669Z"
   },
   {
    "duration": 5,
    "start_time": "2022-02-18T22:44:14.969Z"
   },
   {
    "duration": 21,
    "start_time": "2022-02-18T22:44:14.977Z"
   },
   {
    "duration": 76,
    "start_time": "2022-02-18T22:44:15.001Z"
   },
   {
    "duration": 9096,
    "start_time": "2022-02-18T22:44:15.079Z"
   },
   {
    "duration": 373,
    "start_time": "2022-02-19T09:36:08.993Z"
   }
  ],
  "kernelspec": {
   "display_name": "Python 3 (ipykernel)",
   "language": "python",
   "name": "python3"
  },
  "language_info": {
   "codemirror_mode": {
    "name": "ipython",
    "version": 3
   },
   "file_extension": ".py",
   "mimetype": "text/x-python",
   "name": "python",
   "nbconvert_exporter": "python",
   "pygments_lexer": "ipython3",
   "version": "3.10.0"
  },
  "toc": {
   "base_numbering": 1,
   "nav_menu": {},
   "number_sections": true,
   "sideBar": true,
   "skip_h1_title": true,
   "title_cell": "Table of Contents",
   "title_sidebar": "Contents",
   "toc_cell": false,
   "toc_position": {},
   "toc_section_display": true,
   "toc_window_display": false
  }
 },
 "nbformat": 4,
 "nbformat_minor": 2
}
